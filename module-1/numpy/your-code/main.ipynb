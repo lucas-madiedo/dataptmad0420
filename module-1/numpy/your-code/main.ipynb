{
 "cells": [
  {
   "cell_type": "markdown",
   "metadata": {},
   "source": [
    "# Introduction to NumPy\n",
    "\n",
    "\n",
    "#### 1. Import NumPy under the name np."
   ]
  },
  {
   "cell_type": "code",
   "execution_count": 177,
   "metadata": {},
   "outputs": [],
   "source": [
    "import numpy as np"
   ]
  },
  {
   "cell_type": "markdown",
   "metadata": {},
   "source": [
    "#### 2. Print your NumPy version."
   ]
  },
  {
   "cell_type": "code",
   "execution_count": 178,
   "metadata": {},
   "outputs": [
    {
     "data": {
      "text/plain": [
       "'1.18.1'"
      ]
     },
     "execution_count": 178,
     "metadata": {},
     "output_type": "execute_result"
    }
   ],
   "source": [
    "np.__version__"
   ]
  },
  {
   "cell_type": "markdown",
   "metadata": {},
   "source": [
    "#### 3. Generate a 2x3x5 3-dimensional array with random values. Assign the array to variable *a*.\n",
    "**Challenge**: there are at least three easy ways that use numpy to generate random arrays. How many ways can you find?"
   ]
  },
  {
   "cell_type": "code",
   "execution_count": 179,
   "metadata": {},
   "outputs": [
    {
     "data": {
      "text/plain": [
       "array([[[0.68425031, 0.83498602, 0.86684128, 0.55277872, 0.04760245],\n",
       "        [0.83839272, 0.23032824, 0.36835613, 0.934139  , 0.04709137],\n",
       "        [0.60841448, 0.51685508, 0.41433599, 0.11785733, 0.07370011]],\n",
       "\n",
       "       [[0.06922728, 0.59418865, 0.8386293 , 0.09939473, 0.76106222],\n",
       "        [0.64521466, 0.43219667, 0.03465112, 0.11287647, 0.09706602],\n",
       "        [0.28421456, 0.94346525, 0.57360763, 0.79460823, 0.41075272]]])"
      ]
     },
     "execution_count": 179,
     "metadata": {},
     "output_type": "execute_result"
    }
   ],
   "source": [
    "a = np.random.random((2,3,5))\n",
    "a"
   ]
  },
  {
   "cell_type": "code",
   "execution_count": 180,
   "metadata": {},
   "outputs": [
    {
     "data": {
      "text/plain": [
       "array([[[0.51193263, 0.99532388, 0.41821934, 0.13145257, 0.68269857],\n",
       "        [0.93930849, 0.92412262, 0.18699939, 0.25821252, 0.63089543],\n",
       "        [0.8004733 , 0.97605637, 0.85090199, 0.95256526, 0.30036984]],\n",
       "\n",
       "       [[0.49799339, 0.14720801, 0.53525827, 0.04859456, 0.96850084],\n",
       "        [0.80910465, 0.37655071, 0.12621581, 0.51318137, 0.59560873],\n",
       "        [0.2722631 , 0.9405629 , 0.48563593, 0.43981819, 0.15325878]]])"
      ]
     },
     "execution_count": 180,
     "metadata": {},
     "output_type": "execute_result"
    }
   ],
   "source": [
    "a = np.random.rand(2,3,5)\n",
    "a"
   ]
  },
  {
   "cell_type": "code",
   "execution_count": null,
   "metadata": {},
   "outputs": [],
   "source": []
  },
  {
   "cell_type": "markdown",
   "metadata": {},
   "source": [
    "#### 4. Print *a*.\n"
   ]
  },
  {
   "cell_type": "code",
   "execution_count": 181,
   "metadata": {},
   "outputs": [
    {
     "name": "stdout",
     "output_type": "stream",
     "text": [
      "[[[0.51193263 0.99532388 0.41821934 0.13145257 0.68269857]\n",
      "  [0.93930849 0.92412262 0.18699939 0.25821252 0.63089543]\n",
      "  [0.8004733  0.97605637 0.85090199 0.95256526 0.30036984]]\n",
      "\n",
      " [[0.49799339 0.14720801 0.53525827 0.04859456 0.96850084]\n",
      "  [0.80910465 0.37655071 0.12621581 0.51318137 0.59560873]\n",
      "  [0.2722631  0.9405629  0.48563593 0.43981819 0.15325878]]]\n"
     ]
    }
   ],
   "source": [
    "print(a)"
   ]
  },
  {
   "cell_type": "markdown",
   "metadata": {},
   "source": [
    "#### 5. Create a 5x2x3 3-dimensional array with all values equaling 1. Assign the array to variable *b*."
   ]
  },
  {
   "cell_type": "code",
   "execution_count": 182,
   "metadata": {},
   "outputs": [],
   "source": [
    "b = np.ones((5,2,3))"
   ]
  },
  {
   "cell_type": "markdown",
   "metadata": {},
   "source": [
    "#### 6. Print *b*.\n"
   ]
  },
  {
   "cell_type": "code",
   "execution_count": 183,
   "metadata": {},
   "outputs": [
    {
     "name": "stdout",
     "output_type": "stream",
     "text": [
      "[[[1. 1. 1.]\n",
      "  [1. 1. 1.]]\n",
      "\n",
      " [[1. 1. 1.]\n",
      "  [1. 1. 1.]]\n",
      "\n",
      " [[1. 1. 1.]\n",
      "  [1. 1. 1.]]\n",
      "\n",
      " [[1. 1. 1.]\n",
      "  [1. 1. 1.]]\n",
      "\n",
      " [[1. 1. 1.]\n",
      "  [1. 1. 1.]]]\n"
     ]
    }
   ],
   "source": [
    "print(b)"
   ]
  },
  {
   "cell_type": "markdown",
   "metadata": {},
   "source": [
    "#### 7. Do *a* and *b* have the same size? How do you prove that in Python code?"
   ]
  },
  {
   "cell_type": "code",
   "execution_count": 184,
   "metadata": {},
   "outputs": [
    {
     "data": {
      "text/plain": [
       "True"
      ]
     },
     "execution_count": 184,
     "metadata": {},
     "output_type": "execute_result"
    }
   ],
   "source": [
    "a.size == b.size\n"
   ]
  },
  {
   "cell_type": "markdown",
   "metadata": {},
   "source": [
    "#### 8. Are you able to add *a* and *b*? Why or why not?\n"
   ]
  },
  {
   "cell_type": "code",
   "execution_count": 185,
   "metadata": {},
   "outputs": [
    {
     "data": {
      "text/plain": [
       "False"
      ]
     },
     "execution_count": 185,
     "metadata": {},
     "output_type": "execute_result"
    }
   ],
   "source": [
    "# We can NOT add those two arrays cause they dont have the same shape.\n",
    "a.shape == b.shape"
   ]
  },
  {
   "cell_type": "markdown",
   "metadata": {},
   "source": [
    "#### 9. Transpose *b* so that it has the same structure of *a* (i.e. become a 2x3x5 array). Assign the transposed array to variable *c*."
   ]
  },
  {
   "cell_type": "code",
   "execution_count": 186,
   "metadata": {},
   "outputs": [
    {
     "data": {
      "text/plain": [
       "array([[[1., 1., 1., 1., 1.],\n",
       "        [1., 1., 1., 1., 1.],\n",
       "        [1., 1., 1., 1., 1.]],\n",
       "\n",
       "       [[1., 1., 1., 1., 1.],\n",
       "        [1., 1., 1., 1., 1.],\n",
       "        [1., 1., 1., 1., 1.]]])"
      ]
     },
     "execution_count": 186,
     "metadata": {},
     "output_type": "execute_result"
    }
   ],
   "source": [
    "c = np.transpose(b,(1,2,0))\n",
    "c\n",
    "\n"
   ]
  },
  {
   "cell_type": "markdown",
   "metadata": {},
   "source": [
    "#### 10. Try to add *a* and *c*. Now it should work. Assign the sum to variable *d*. But why does it work now?"
   ]
  },
  {
   "cell_type": "code",
   "execution_count": 187,
   "metadata": {},
   "outputs": [],
   "source": [
    "d = np.add(a,c)"
   ]
  },
  {
   "cell_type": "markdown",
   "metadata": {},
   "source": [
    "#### 11. Print *a* and *d*. Notice the difference and relation of the two array in terms of the values? Explain."
   ]
  },
  {
   "cell_type": "code",
   "execution_count": 188,
   "metadata": {},
   "outputs": [
    {
     "data": {
      "text/plain": [
       "array([[[1.51193263, 1.99532388, 1.41821934, 1.13145257, 1.68269857],\n",
       "        [1.93930849, 1.92412262, 1.18699939, 1.25821252, 1.63089543],\n",
       "        [1.8004733 , 1.97605637, 1.85090199, 1.95256526, 1.30036984]],\n",
       "\n",
       "       [[1.49799339, 1.14720801, 1.53525827, 1.04859456, 1.96850084],\n",
       "        [1.80910465, 1.37655071, 1.12621581, 1.51318137, 1.59560873],\n",
       "        [1.2722631 , 1.9405629 , 1.48563593, 1.43981819, 1.15325878]]])"
      ]
     },
     "execution_count": 188,
     "metadata": {},
     "output_type": "execute_result"
    }
   ],
   "source": [
    "d # We have the same A array but adding one for each number. The sum of arrays respects the order of echa number."
   ]
  },
  {
   "cell_type": "markdown",
   "metadata": {},
   "source": [
    "#### 12. Multiply *a* and *c*. Assign the result to *e*."
   ]
  },
  {
   "cell_type": "code",
   "execution_count": 189,
   "metadata": {},
   "outputs": [
    {
     "data": {
      "text/plain": [
       "array([[[0.51193263, 0.99532388, 0.41821934, 0.13145257, 0.68269857],\n",
       "        [0.93930849, 0.92412262, 0.18699939, 0.25821252, 0.63089543],\n",
       "        [0.8004733 , 0.97605637, 0.85090199, 0.95256526, 0.30036984]],\n",
       "\n",
       "       [[0.49799339, 0.14720801, 0.53525827, 0.04859456, 0.96850084],\n",
       "        [0.80910465, 0.37655071, 0.12621581, 0.51318137, 0.59560873],\n",
       "        [0.2722631 , 0.9405629 , 0.48563593, 0.43981819, 0.15325878]]])"
      ]
     },
     "metadata": {},
     "output_type": "display_data"
    },
    {
     "data": {
      "text/plain": [
       "array([[[0.51193263, 0.99532388, 0.41821934, 0.13145257, 0.68269857],\n",
       "        [0.93930849, 0.92412262, 0.18699939, 0.25821252, 0.63089543],\n",
       "        [0.8004733 , 0.97605637, 0.85090199, 0.95256526, 0.30036984]],\n",
       "\n",
       "       [[0.49799339, 0.14720801, 0.53525827, 0.04859456, 0.96850084],\n",
       "        [0.80910465, 0.37655071, 0.12621581, 0.51318137, 0.59560873],\n",
       "        [0.2722631 , 0.9405629 , 0.48563593, 0.43981819, 0.15325878]]])"
      ]
     },
     "execution_count": 189,
     "metadata": {},
     "output_type": "execute_result"
    }
   ],
   "source": [
    "e = np.multiply(a,c)\n",
    "display(a)\n",
    "e\n"
   ]
  },
  {
   "cell_type": "markdown",
   "metadata": {},
   "source": [
    "#### 13. Does *e* equal to *a*? Why or why not?\n"
   ]
  },
  {
   "cell_type": "code",
   "execution_count": 190,
   "metadata": {},
   "outputs": [],
   "source": [
    "#Yes becasuse we are multipliying by one."
   ]
  },
  {
   "cell_type": "markdown",
   "metadata": {},
   "source": [
    "#### 14. Identify the max, min, and mean values in *d*. Assign those values to variables *d_max*, *d_min* and *d_mean*."
   ]
  },
  {
   "cell_type": "code",
   "execution_count": 208,
   "metadata": {},
   "outputs": [
    {
     "data": {
      "text/plain": [
       "1.5489762482815144"
      ]
     },
     "execution_count": 208,
     "metadata": {},
     "output_type": "execute_result"
    }
   ],
   "source": [
    "d_max = np.max(d)\n",
    "d_min = np.min(d)\n",
    "d_mean = np.mean(d)\n",
    "\n",
    "\n",
    "d_mean"
   ]
  },
  {
   "cell_type": "markdown",
   "metadata": {},
   "source": [
    "#### 15. Now we want to label the values in *d*. First create an empty array *f* with the same shape (i.e. 2x3x5) as *d* using `np.empty`.\n"
   ]
  },
  {
   "cell_type": "code",
   "execution_count": 209,
   "metadata": {},
   "outputs": [],
   "source": [
    "f = np.empty((2,3,5))"
   ]
  },
  {
   "cell_type": "markdown",
   "metadata": {},
   "source": [
    "#### 16. Populate the values in *f*. \n",
    "\n",
    "For each value in *d*, if it's larger than *d_min* but smaller than *d_mean*, assign 25 to the corresponding value in *f*. If a value in *d* is larger than *d_mean* but smaller than *d_max*, assign 75 to the corresponding value in *f*. If a value equals to *d_mean*, assign 50 to the corresponding value in *f*. Assign 0 to the corresponding value(s) in *f* for *d_min* in *d*. Assign 100 to the corresponding value(s) in *f* for *d_max* in *d*. In the end, f should have only the following values: 0, 25, 50, 75, and 100.\n",
    "\n",
    "**Note**: you don't have to use Numpy in this question."
   ]
  },
  {
   "cell_type": "code",
   "execution_count": 217,
   "metadata": {
    "scrolled": true
   },
   "outputs": [
    {
     "data": {
      "text/plain": [
       "array([[[ 25., 100.,  25.,  25.,  75.],\n",
       "        [ 75.,  75.,  25.,  25.,  75.],\n",
       "        [ 75.,  75.,  75.,  75.,  25.]],\n",
       "\n",
       "       [[ 25.,  25.,  25.,   0.,  75.],\n",
       "        [ 75.,  25.,  25.,  25.,  75.],\n",
       "        [ 25.,  75.,  25.,  25.,  25.]]])"
      ]
     },
     "execution_count": 217,
     "metadata": {},
     "output_type": "execute_result"
    }
   ],
   "source": [
    "'''\n",
    "Hay algo que no acabo de entender con la asignación de valores a variables en Jupyter. \n",
    "No va sobreescribiendo de arriba hacia abajo sobre escribiendo no?? ejecutar una celda \n",
    "superior no resetea el valor de la variable?\n",
    "Suelo tener muchos problemas con este tema, creo que trabajo con un valor y es otro...\n",
    "\n",
    "Por otro lado, he intentado solucionar este ejercicio por mi cuenta. (no tan spaguetti code)\n",
    "Como se haría bien??\n",
    "'''\n",
    "\n",
    "for dimension in range(len(d)):\n",
    "\n",
    "    for row in range(len(d[dimension])):\n",
    "\n",
    "        for val in range(len(d[dimension][row])):\n",
    "            \n",
    "            numero = d[dimension][row][val]\n",
    "            \n",
    "\n",
    "            if numero > d_min and numero < d_mean:\n",
    "                f[dimension][row][val] = 25\n",
    "                \n",
    "            elif numero > d_mean and numero < d_max:\n",
    "                f[dimension][row][val] = 75\n",
    "                \n",
    "            elif numero == d_mean:\n",
    "                f[dimension][row][val] = 50\n",
    "                \n",
    "            elif numero == d_min:\n",
    "                f[dimension][row][val] = 0\n",
    "                \n",
    "            else:\n",
    "                f[dimension][row][val] = 100\n",
    "          \n",
    "f"
   ]
  },
  {
   "cell_type": "markdown",
   "metadata": {},
   "source": [
    "#### 17. Print *d* and *f*. Do you have your expected *f*?\n",
    "For instance, if your *d* is:\n",
    "```python\n",
    "[[[1.85836099, 1.67064465, 1.62576044, 1.40243961, 1.88454931],\n",
    "[1.75354326, 1.69403643, 1.36729252, 1.61415071, 1.12104981],\n",
    "[1.72201435, 1.1862918 , 1.87078449, 1.7726778 , 1.88180042]],\n",
    "[[1.44747908, 1.31673383, 1.02000951, 1.52218947, 1.97066381],\n",
    "[1.79129243, 1.74983003, 1.96028037, 1.85166831, 1.65450881],\n",
    "[1.18068344, 1.9587381 , 1.00656599, 1.93402165, 1.73514584]]]\n",
    "```\n",
    "Your *f* should be:\n",
    "```python\n",
    "[[[ 75.,  75.,  75.,  25.,  75.],\n",
    "[ 75.,  75.,  25.,  25.,  25.],\n",
    "[ 75.,  25.,  75.,  75.,  75.]],\n",
    "[[ 25.,  25.,  25.,  25., 100.],\n",
    "[ 75.,  75.,  75.,  75.,  75.],\n",
    "[ 25.,  75.,   0.,  75.,  75.]]]\n",
    "```"
   ]
  },
  {
   "cell_type": "code",
   "execution_count": 218,
   "metadata": {},
   "outputs": [
    {
     "data": {
      "text/plain": [
       "(array([[[1.51193263, 1.99532388, 1.41821934, 1.13145257, 1.68269857],\n",
       "         [1.93930849, 1.92412262, 1.18699939, 1.25821252, 1.63089543],\n",
       "         [1.8004733 , 1.97605637, 1.85090199, 1.95256526, 1.30036984]],\n",
       " \n",
       "        [[1.49799339, 1.14720801, 1.53525827, 1.04859456, 1.96850084],\n",
       "         [1.80910465, 1.37655071, 1.12621581, 1.51318137, 1.59560873],\n",
       "         [1.2722631 , 1.9405629 , 1.48563593, 1.43981819, 1.15325878]]]),\n",
       " array([[[ 25., 100.,  25.,  25.,  75.],\n",
       "         [ 75.,  75.,  25.,  25.,  75.],\n",
       "         [ 75.,  75.,  75.,  75.,  25.]],\n",
       " \n",
       "        [[ 25.,  25.,  25.,   0.,  75.],\n",
       "         [ 75.,  25.,  25.,  25.,  75.],\n",
       "         [ 25.,  75.,  25.,  25.,  25.]]]))"
      ]
     },
     "execution_count": 218,
     "metadata": {},
     "output_type": "execute_result"
    }
   ],
   "source": [
    "d,f"
   ]
  },
  {
   "cell_type": "markdown",
   "metadata": {},
   "source": [
    "#### 18. Bonus question: instead of using numbers (i.e. 0, 25, 50, 75, and 100), use string values  (\"A\", \"B\", \"C\", \"D\", and \"E\") to label the array elements. For the example above, the expected result is:\n",
    "\n",
    "```python\n",
    "[[[ 'D',  'D',  'D',  'B',  'D'],\n",
    "[ 'D',  'D',  'B',  'B',  'B'],\n",
    "[ 'D',  'B',  'D',  'D',  'D']],\n",
    "[[ 'B',  'B',  'B',  'B',  'E'],\n",
    "[ 'D',  'D',  'D',  'D',  'D'],\n",
    "[ 'B',  'D',   'A',  'D', 'D']]]\n",
    "```\n",
    "**Note**: you don't have to use Numpy in this question."
   ]
  },
  {
   "cell_type": "code",
   "execution_count": 225,
   "metadata": {},
   "outputs": [
    {
     "data": {
      "text/plain": [
       "array([[['B', 'E', 'B', 'B', 'D'],\n",
       "        ['D', 'D', 'B', 'B', 'D'],\n",
       "        ['D', 'D', 'D', 'D', 'B']],\n",
       "\n",
       "       [['B', 'B', 'B', 'A', 'D'],\n",
       "        ['D', 'B', 'B', 'B', 'D'],\n",
       "        ['B', 'D', 'B', 'B', 'B']]], dtype='<U1')"
      ]
     },
     "execution_count": 225,
     "metadata": {},
     "output_type": "execute_result"
    }
   ],
   "source": [
    "f = np.empty((2,3,5), dtype=str)\n",
    "\n",
    "for dimension in range(len(d)):\n",
    "\n",
    "    for row in range(len(d[dimension])):\n",
    "\n",
    "        for val in range(len(d[dimension][row])):\n",
    "            \n",
    "            numero = d[dimension][row][val]\n",
    "            \n",
    "\n",
    "            if numero > d_min and numero < d_mean:\n",
    "                f[dimension][row][val] = 'B'\n",
    "                \n",
    "            elif numero > d_mean and numero < d_max:\n",
    "                f[dimension][row][val] = 'D'\n",
    "                \n",
    "            elif numero == d_mean:\n",
    "                f[dimension][row][val] = 'C'\n",
    "                \n",
    "            elif numero == d_min:\n",
    "                f[dimension][row][val] = 'A'\n",
    "                \n",
    "            else:\n",
    "                f[dimension][row][val] = 'E'\n",
    "          \n",
    "f"
   ]
  },
  {
   "cell_type": "code",
   "execution_count": null,
   "metadata": {},
   "outputs": [],
   "source": []
  },
  {
   "cell_type": "code",
   "execution_count": null,
   "metadata": {},
   "outputs": [],
   "source": []
  }
 ],
 "metadata": {
  "kernelspec": {
   "display_name": "Python [conda env:ironhack_env]",
   "language": "python",
   "name": "conda-env-ironhack_env-py"
  },
  "language_info": {
   "codemirror_mode": {
    "name": "ipython",
    "version": 3
   },
   "file_extension": ".py",
   "mimetype": "text/x-python",
   "name": "python",
   "nbconvert_exporter": "python",
   "pygments_lexer": "ipython3",
   "version": "3.7.7"
  }
 },
 "nbformat": 4,
 "nbformat_minor": 2
}
