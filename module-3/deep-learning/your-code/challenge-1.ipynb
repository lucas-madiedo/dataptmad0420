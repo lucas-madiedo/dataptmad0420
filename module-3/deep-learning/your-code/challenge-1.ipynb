{
 "cells": [
  {
   "cell_type": "markdown",
   "metadata": {},
   "source": [
    "# Challenge 1 - Tic Tac Toe\n",
    "\n",
    "In this lab you will perform deep learning analysis on a dataset of playing [Tic Tac Toe](https://en.wikipedia.org/wiki/Tic-tac-toe).\n",
    "\n",
    "There are 9 grids in Tic Tac Toe that are coded as the following picture shows:\n",
    "\n",
    "![Tic Tac Toe Grids](tttboard.jpg)\n",
    "\n",
    "In the first 9 columns of the dataset you can find which marks (`x` or `o`) exist in the grids. If there is no mark in a certain grid, it is labeled as `b`. The last column is `class` which tells you whether Player X (who always moves first in Tic Tac Toe) wins in this configuration. Note that when `class` has the value `False`, it means either Player O wins the game or it ends up as a draw."
   ]
  },
  {
   "cell_type": "markdown",
   "metadata": {},
   "source": [
    "Follow the steps suggested below to conduct a neural network analysis using Tensorflow and Keras. You will build a deep learning model to predict whether Player X wins the game or not.\n",
    "\n",
    "## Step 1: Data Engineering\n",
    "\n",
    "This dataset is almost in the ready-to-use state so you do not need to worry about missing values and so on. Still, some simple data engineering is needed.\n",
    "\n",
    "1. Read `tic-tac-toe.csv` into a dataframe.\n",
    "1. Inspect the dataset. Determine if the dataset is reliable by eyeballing the data.\n",
    "1. Convert the categorical values to numeric in all columns.\n",
    "1. Separate the inputs and output.\n",
    "1. Normalize the input data."
   ]
  },
  {
   "cell_type": "code",
   "execution_count": 102,
   "metadata": {},
   "outputs": [],
   "source": [
    "import pandas as pd\n",
    "import numpy as np\n",
    "from sklearn.preprocessing import OneHotEncoder, StandardScaler\n",
    "from sklearn.pipeline import Pipeline\n",
    "from sklearn.impute import SimpleImputer\n",
    "from sklearn.compose import ColumnTransformer\n",
    "from sklearn.model_selection import train_test_split"
   ]
  },
  {
   "cell_type": "code",
   "execution_count": 123,
   "metadata": {},
   "outputs": [
    {
     "data": {
      "text/plain": [
       "(958, 10)"
      ]
     },
     "execution_count": 123,
     "metadata": {},
     "output_type": "execute_result"
    }
   ],
   "source": [
    "df =pd.read_csv('tic-tac-toe.csv')\n",
    "df.shape"
   ]
  },
  {
   "cell_type": "code",
   "execution_count": 74,
   "metadata": {},
   "outputs": [],
   "source": [
    "working_columns = ['TL', 'TM', 'TR', 'ML', 'MM', 'MR', 'BL', 'BM', 'BR']\n",
    "target = ['class']\n",
    "all_cols = working_columns + target\n"
   ]
  },
  {
   "cell_type": "code",
   "execution_count": 75,
   "metadata": {},
   "outputs": [],
   "source": [
    "categorial_features_transformer = Pipeline(steps=[('imputer',SimpleImputer(strategy='constant',\n",
    "                                                                           fill_value='missing')),\n",
    "                                                 ('onehot',OneHotEncoder(handle_unknown='ignore'))])\n",
    "\n",
    "preprocesor = ColumnTransformer(transformers=[('categorical_transformer',categorial_features_transformer,working_colums)])"
   ]
  },
  {
   "cell_type": "markdown",
   "metadata": {},
   "source": [
    "## Step 2: Build Neural Network\n",
    "\n",
    "To build the neural network, you can refer to your own codes you wrote while following the [Deep Learning with Python, TensorFlow, and Keras tutorial](https://www.youtube.com/watch?v=wQ8BIBpya2k) in the lesson. It's pretty similar to what you will be doing in this lab.\n",
    "\n",
    "1. Split the training and test data.\n",
    "1. Create a `Sequential` model.\n",
    "1. Add several layers to your model. Make sure you use ReLU as the activation function for the middle layers. Use Softmax for the output layer because each output has a single lable and all the label probabilities add up to 1.\n",
    "1. Compile the model using `adam` as the optimizer and `sparse_categorical_crossentropy` as the loss function. For metrics, use `accuracy` for now.\n",
    "1. Fit the training data.\n",
    "1. Evaluate your neural network model with the test data.\n",
    "1. Save your model as `tic-tac-toe.model`."
   ]
  },
  {
   "cell_type": "code",
   "execution_count": 76,
   "metadata": {},
   "outputs": [],
   "source": [
    "import tensorflow as tf"
   ]
  },
  {
   "cell_type": "code",
   "execution_count": 77,
   "metadata": {},
   "outputs": [],
   "source": [
    "train,test = train_test_split(df)"
   ]
  },
  {
   "cell_type": "code",
   "execution_count": 78,
   "metadata": {},
   "outputs": [],
   "source": [
    "x_train, y_train = train[working_columns],train[target]\n",
    "x_test, y_test = test[working_columns],test[target]"
   ]
  },
  {
   "cell_type": "code",
   "execution_count": 79,
   "metadata": {},
   "outputs": [
    {
     "name": "stdout",
     "output_type": "stream",
     "text": [
      "TRAIN SIZE: (718, 9)// (718, 1)\n",
      "TEST SIZE: (240, 9) // (240, 1)\n"
     ]
    }
   ],
   "source": [
    "print(f'TRAIN SIZE: {x_train.shape}// {y_train.shape}')\n",
    "print(f'TEST SIZE: {x_test.shape} // {y_test.shape}')"
   ]
  },
  {
   "cell_type": "code",
   "execution_count": 80,
   "metadata": {},
   "outputs": [],
   "source": [
    "x_train = preprocesor.fit_transform(x_train)\n",
    "x_test = preprocesor.fit_transform(x_test)"
   ]
  },
  {
   "cell_type": "code",
   "execution_count": null,
   "metadata": {},
   "outputs": [],
   "source": [
    "y_train[\"class\"] = y_train[\"class\"].astype(int)\n",
    "y_train= y_train['class'].to_numpy()\n",
    "\n",
    "y_test[\"class\"] = y_test[\"class\"].astype(int)\n",
    "y_test= y_test['class'].to_numpy()"
   ]
  },
  {
   "cell_type": "markdown",
   "metadata": {},
   "source": [
    "<div class=\"alert alert-block alert-warning\"> Tiene que haber una forma Mucho más facil de categorizar y dividir los valores en train y test. Pero si le paso el preprocesor antes, no se como sacar las Y. Aqui separo el df y luego, a categorizo cada uno de los 4 bloques."
   ]
  },
  {
   "cell_type": "code",
   "execution_count": 88,
   "metadata": {},
   "outputs": [],
   "source": [
    "model = tf.keras.models.Sequential()\n",
    "model.add(tf.keras.layers.Flatten())\n",
    "model.add(tf.keras.layers.Dense(128,activation=tf.nn.relu))\n",
    "model.add(tf.keras.layers.Dense(128,activation=tf.nn.relu))\n",
    "model.add(tf.keras.layers.Dense(2,activation=tf.nn.softmax))\n",
    "\n",
    "model.compile(optimizer='adam',\n",
    "             loss='sparse_categorical_crossentropy',\n",
    "             metrics=['accuracy'])"
   ]
  },
  {
   "cell_type": "code",
   "execution_count": 92,
   "metadata": {},
   "outputs": [
    {
     "name": "stdout",
     "output_type": "stream",
     "text": [
      "Epoch 1/8\n",
      "12/12 [==============================] - 0s 11ms/step - loss: 0.0943 - accuracy: 0.9819 - val_loss: 0.1483 - val_accuracy: 0.9625\n",
      "Epoch 2/8\n",
      "12/12 [==============================] - 0s 12ms/step - loss: 0.0765 - accuracy: 0.9903 - val_loss: 0.1377 - val_accuracy: 0.9708\n",
      "Epoch 3/8\n",
      "12/12 [==============================] - 0s 13ms/step - loss: 0.0621 - accuracy: 0.9930 - val_loss: 0.1279 - val_accuracy: 0.9750\n",
      "Epoch 4/8\n",
      "12/12 [==============================] - 0s 15ms/step - loss: 0.0531 - accuracy: 0.9958 - val_loss: 0.1207 - val_accuracy: 0.9708\n",
      "Epoch 5/8\n",
      "12/12 [==============================] - 0s 13ms/step - loss: 0.0441 - accuracy: 0.9930 - val_loss: 0.1126 - val_accuracy: 0.9750\n",
      "Epoch 6/8\n",
      "12/12 [==============================] - 0s 21ms/step - loss: 0.0365 - accuracy: 0.9958 - val_loss: 0.1050 - val_accuracy: 0.9708\n",
      "Epoch 7/8\n",
      "12/12 [==============================] - 0s 13ms/step - loss: 0.0316 - accuracy: 0.9972 - val_loss: 0.1026 - val_accuracy: 0.9792\n",
      "Epoch 8/8\n",
      "12/12 [==============================] - 0s 13ms/step - loss: 0.0294 - accuracy: 0.9958 - val_loss: 0.0919 - val_accuracy: 0.9708\n"
     ]
    },
    {
     "data": {
      "text/plain": [
       "<tensorflow.python.keras.callbacks.History at 0x7f1480710630>"
      ]
     },
     "execution_count": 92,
     "metadata": {},
     "output_type": "execute_result"
    }
   ],
   "source": [
    "model.fit(x_train,\n",
    "          y_train,\n",
    "          epochs=8,\n",
    "          batch_size=64,\n",
    "          validation_data=(x_test, y_test))"
   ]
  },
  {
   "cell_type": "code",
   "execution_count": 93,
   "metadata": {},
   "outputs": [
    {
     "name": "stdout",
     "output_type": "stream",
     "text": [
      "8/8 [==============================] - 0s 11ms/step - loss: 0.0919 - accuracy: 0.9708\n",
      "0.09189478307962418 0.9708333611488342\n"
     ]
    }
   ],
   "source": [
    "val_loss,val_acc = model.evaluate(x_test,y_test)\n",
    "print(val_loss,val_acc)"
   ]
  },
  {
   "cell_type": "code",
   "execution_count": 94,
   "metadata": {},
   "outputs": [],
   "source": [
    "model.save('tictactoe.h5')"
   ]
  },
  {
   "cell_type": "markdown",
   "metadata": {},
   "source": [
    "## Step 3: Make Predictions\n",
    "\n",
    "Now load your saved model and use it to make predictions on a few random rows in the test dataset. Check if the predictions are correct."
   ]
  },
  {
   "cell_type": "code",
   "execution_count": 120,
   "metadata": {},
   "outputs": [],
   "source": [
    "full_games = df[working_columns]\n",
    "full_results = df[target]['class'].to_list()"
   ]
  },
  {
   "cell_type": "code",
   "execution_count": 95,
   "metadata": {},
   "outputs": [],
   "source": [
    "my_first_model = tf.keras.models.load_model('tictactoe.h5')"
   ]
  },
  {
   "cell_type": "code",
   "execution_count": 97,
   "metadata": {},
   "outputs": [],
   "source": [
    "prediction = my_first_model.predict(preprocesor.fit_transform(full_games))"
   ]
  },
  {
   "cell_type": "code",
   "execution_count": 122,
   "metadata": {},
   "outputs": [
    {
     "data": {
      "text/plain": [
       "84"
      ]
     },
     "execution_count": 122,
     "metadata": {},
     "output_type": "execute_result"
    }
   ],
   "source": [
    "np.random.randint(100)"
   ]
  },
  {
   "cell_type": "code",
   "execution_count": 184,
   "metadata": {},
   "outputs": [
    {
     "name": "stdout",
     "output_type": "stream",
     "text": [
      "Real: True - Predicted: True : Correct\n",
      "Real: False - Predicted: False : Correct\n",
      "Real: False - Predicted: False : Correct\n",
      "Real: True - Predicted: True : Correct\n",
      "Real: True - Predicted: True : Correct\n",
      "Real: True - Predicted: True : Correct\n",
      "Real: True - Predicted: True : Correct\n",
      "Real: False - Predicted: False : Correct\n",
      "Real: True - Predicted: True : Correct\n",
      "Real: False - Predicted: True : ERROR <<--------------\n",
      "Real: False - Predicted: False : Correct\n",
      "Real: True - Predicted: True : Correct\n",
      "Real: True - Predicted: True : Correct\n",
      "Real: True - Predicted: True : Correct\n",
      "Real: True - Predicted: True : Correct\n",
      "Real: True - Predicted: True : Correct\n",
      "Real: False - Predicted: False : Correct\n",
      "Real: True - Predicted: True : Correct\n",
      "Real: True - Predicted: True : Correct\n",
      "Real: True - Predicted: True : Correct\n"
     ]
    }
   ],
   "source": [
    "for num in range(20):\n",
    "    n = np.random.randint(958)\n",
    "    \n",
    "    if np.argmax(prediction[n]) == 0:\n",
    "        pred = 'False'\n",
    "    else:\n",
    "        pred='True'\n",
    "    real = full_results[n]\n",
    "    \n",
    "    if str(pred) != str(real):\n",
    "        result='ERROR <<--------------'\n",
    "    else:\n",
    "        result='Correct'\n",
    "    \n",
    "    print(f'Real: {real} - Predicted: {pred} : {result}')"
   ]
  },
  {
   "cell_type": "markdown",
   "metadata": {},
   "source": [
    "## Step 4: Improve Your Model\n",
    "\n",
    "Did your model achieve low loss (<0.1) and high accuracy (>0.95)? If not, try to improve your model.\n",
    "\n",
    "But how? There are so many things you can play with in Tensorflow and in the next challenge you'll learn about these things. But in this challenge, let's just do a few things to see if they will help.\n",
    "\n",
    "* Add more layers to your model. If the data are complex you need more layers. But don't use more layers than you need. If adding more layers does not improve the model performance you don't need additional layers.\n",
    "* Adjust the learning rate when you compile the model. This means you will create a custom `tf.keras.optimizers.Adam` instance where you specify the learning rate you want. Then pass the instance to `model.compile` as the optimizer.\n",
    "    * `tf.keras.optimizers.Adam` [reference](https://www.tensorflow.org/api_docs/python/tf/keras/optimizers/Adam).\n",
    "    * Don't worry if you don't understand what the learning rate does. You'll learn about it in the next challenge.\n",
    "* Adjust the number of epochs when you fit the training data to the model. Your model performance continues to improve as you train more epochs. But eventually it will reach the ceiling and the performance will stay the same."
   ]
  },
  {
   "cell_type": "code",
   "execution_count": null,
   "metadata": {},
   "outputs": [],
   "source": [
    "# your code here"
   ]
  },
  {
   "cell_type": "markdown",
   "metadata": {},
   "source": [
    "**Which approach(es) did you find helpful to improve your model performance?**"
   ]
  },
  {
   "cell_type": "code",
   "execution_count": null,
   "metadata": {},
   "outputs": [],
   "source": [
    "# your answer here"
   ]
  }
 ],
 "metadata": {
  "kernelspec": {
   "display_name": "Python [conda env:ironhack_env]",
   "language": "python",
   "name": "conda-env-ironhack_env-py"
  },
  "language_info": {
   "codemirror_mode": {
    "name": "ipython",
    "version": 3
   },
   "file_extension": ".py",
   "mimetype": "text/x-python",
   "name": "python",
   "nbconvert_exporter": "python",
   "pygments_lexer": "ipython3",
   "version": "3.7.3"
  }
 },
 "nbformat": 4,
 "nbformat_minor": 4
}
